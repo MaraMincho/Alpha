{
  "nbformat": 4,
  "nbformat_minor": 0,
  "metadata": {
    "colab": {
      "provenance": [],
      "mount_file_id": "1ciz0rrMRuDRrRd38jRdJDVgq76-9apoe",
      "authorship_tag": "ABX9TyN4XLmtZuq9VtfiHD4kK4hd"
    },
    "kernelspec": {
      "name": "python3",
      "display_name": "Python 3"
    },
    "language_info": {
      "name": "python"
    }
  },
  "cells": [
    {
      "cell_type": "code",
      "source": [
        "!pip install google-cloud-vision"
      ],
      "metadata": {
        "id": "vNlovBpQyCE_"
      },
      "execution_count": null,
      "outputs": []
    },
    {
      "cell_type": "code",
      "source": [
        "!pip install click==7.1.2"
      ],
      "metadata": {
        "id": "uGgbnteLxi8F"
      },
      "execution_count": null,
      "outputs": []
    },
    {
      "cell_type": "code",
      "source": [
        "# 패키지 import\n",
        "import io\n",
        "import os\n",
        "import cv2\n",
        "import json\n",
        "import argparse\n",
        "import imutils\n",
        "import pickle\n",
        "import numpy as np\n",
        "\n",
        "from PIL import Image\n",
        "from google.cloud import vision\n",
        "from keras.models import load_model\n",
        "from matplotlib import pyplot as plt\n",
        "from keras_preprocessing.image import img_to_array\n",
        "from pathlib import Path\n",
        "from rembg import remove, new_session"
      ],
      "metadata": {
        "id": "G_WRtDd1zOrT"
      },
      "execution_count": null,
      "outputs": []
    },
    {
      "cell_type": "code",
      "source": [
        "# 이미지 경로\n",
        "path ='/content/drive/MyDrive/pill'\n",
        "\n",
        "img = cv2.imread(path)"
      ],
      "metadata": {
        "id": "fuWJqzgyzSDv"
      },
      "execution_count": null,
      "outputs": []
    },
    {
      "cell_type": "code",
      "source": [
        "session = new_session()\n",
        "\n",
        "for file in Path(path).glob('*.jpg'):\n",
        "    input_path = str(file)\n",
        "    output_path = str(file.parent / (file.stem + \".png\"))\n",
        "\n",
        "    with open(input_path, 'rb') as i:\n",
        "        with open(output_path, 'wb') as o:\n",
        "            input = i.read()\n",
        "            output = remove(input, session=session)\n",
        "            o.write(output)"
      ],
      "metadata": {
        "id": "i4nqMnZcx1Nb"
      },
      "execution_count": null,
      "outputs": []
    },
    {
      "cell_type": "code",
      "source": [
        "img2=cv2.imread(output_path)"
      ],
      "metadata": {
        "id": "96FHfC3129P3"
      },
      "execution_count": null,
      "outputs": []
    },
    {
      "cell_type": "code",
      "source": [
        "# 이미지 전처리\n",
        "image = cv2.resize(img2, (96, 96))\n",
        "image = image.astype(\"float\") / 255.0\n",
        "image = img_to_array(image)\n",
        "image = np.expand_dims(image, axis=0)\n",
        "\n",
        "# MultiLabelBinarizer 로드\n",
        "model = load_model(\"/content/drive/MyDrive/pill_model.h5\")\n",
        "mlb = pickle.loads(open(\"/content/drive/MyDrive/multilabelbin.txt\", \"rb\").read())\n",
        "\n",
        "# 확률이 높은 상위 2개의 클래스 라벨 추출\n",
        "proba = model.predict(image)[0]\n",
        "idxs = np.argsort(proba)[::-1][:5]"
      ],
      "metadata": {
        "colab": {
          "base_uri": "https://localhost:8080/"
        },
        "id": "TPOTQFbmzSgn",
        "outputId": "8347654b-4ee9-4b1e-ccda-e6912d88dcb7"
      },
      "execution_count": null,
      "outputs": [
        {
          "output_type": "stream",
          "name": "stdout",
          "text": [
            "1/1 [==============================] - 0s 238ms/step\n"
          ]
        }
      ]
    },
    {
      "cell_type": "code",
      "source": [
        "for (i, j) in enumerate(idxs):\n",
        "    label = \"{}: {:.2f}%\".format(mlb.classes_[j], proba[j] * 100)\n",
        "\n",
        "# 모든 라벨의 확률 출력\n",
        "for (label, p) in zip(mlb.classes_, proba):\n",
        "\tprint(\"{}: {:.2f}%\".format(label, p * 100))"
      ],
      "metadata": {
        "id": "D-20F69gzYsL",
        "colab": {
          "base_uri": "https://localhost:8080/"
        },
        "outputId": "76baf3ae-976c-48be-9388-6decd791f4a1"
      },
      "execution_count": null,
      "outputs": [
        {
          "output_type": "stream",
          "name": "stdout",
          "text": [
            "black: 0.00%\n",
            "black,trans: 0.00%\n",
            "blue: 99.68%\n",
            "blue,light: 0.00%\n",
            "blue,trans: 0.00%\n",
            "bluishgreen: 0.02%\n",
            "bluishgreen,trans: 0.00%\n",
            "brown: 0.00%\n",
            "brown,deep: 0.00%\n",
            "brown,trans: 0.00%\n",
            "circle: 0.00%\n",
            "darkblue: 0.02%\n",
            "darkblue,trans: 0.00%\n",
            "diamond: 0.00%\n",
            "ellipse: 0.02%\n",
            "etc: 0.00%\n",
            "gray: 0.00%\n",
            "green: 0.00%\n",
            "green,trans: 0.00%\n",
            "orange: 0.00%\n",
            "orange,trans: 0.00%\n",
            "pink: 0.00%\n",
            "pink,deep: 0.00%\n",
            "pink,light: 0.00%\n",
            "pink,trans: 0.00%\n",
            "purple: 0.00%\n",
            "purple,trans: 0.00%\n",
            "rectangle: 99.95%\n",
            "red: 0.00%\n",
            "red,trans: 0.00%\n",
            "trans: 0.00%\n",
            "white: 0.00%\n",
            "white,blue: 0.00%\n",
            "white,brown: 0.00%\n",
            "white,green: 0.00%\n",
            "white,orange,trans: 0.00%\n",
            "white,red: 0.00%\n",
            "white,trans: 0.00%\n",
            "white,yellow: 0.00%\n",
            "wine: 0.00%\n",
            "wine,trans: 0.00%\n",
            "yellow: 0.00%\n",
            "yellow,trans: 0.00%\n",
            "yellowishgreen: 0.00%\n",
            "yellowishgreen,trans: 0.00%\n"
          ]
        }
      ]
    },
    {
      "cell_type": "code",
      "source": [
        "# 확률이 높은 라벨 5개 출력\n",
        "first_acc=mlb.classes_[idxs[0]]\n",
        "second_acc=mlb.classes_[idxs[1]]\n",
        "third_acc=mlb.classes_[idxs[2]]\n",
        "fourth_acc=mlb.classes_[idxs[3]]\n",
        "fifth_acc=mlb.classes_[idxs[4]]\n",
        "print(first_acc)\n",
        "print(second_acc)\n",
        "print(third_acc)\n",
        "print(fourth_acc)\n",
        "print(fifth_acc)"
      ],
      "metadata": {
        "colab": {
          "base_uri": "https://localhost:8080/"
        },
        "id": "kTNU6OSezdVs",
        "outputId": "b8f1d1c5-5391-41ae-9313-d08b32f10905"
      },
      "execution_count": null,
      "outputs": [
        {
          "output_type": "stream",
          "name": "stdout",
          "text": [
            "rectangle\n",
            "blue\n",
            "ellipse\n",
            "darkblue\n",
            "bluishgreen\n"
          ]
        }
      ]
    },
    {
      "cell_type": "code",
      "source": [
        "# 알약의 모양과 색깔을 저장\n",
        "tablet_shape=[]\n",
        "tablet_color=[]\n",
        "\n",
        "tablet_shape_labels=['circle','diamond','ellipse','rectangle','etc']\n",
        "''''\n",
        "tablet_color_labels=['black', 'black,trans', 'blue', 'blue,light', 'blue,trans', 'bluishgreen', 'bluishgreen,trans', \n",
        "'brown', 'brown,deep', 'brown,trans', 'darkblue', 'darkblue,trans', 'gray', 'green', 'green,trans', \n",
        "'orange', 'orange,trans', 'pink', 'pink,deep', 'pink,light', 'pink,trans', 'purple', 'purple,trans', \n",
        "'red', 'red,trans', 'trans', 'white', 'white,blue', 'white,brown','white,green', 'white,orange,trans', \n",
        "'white,red', 'white,trans', 'white,yellow', 'wine', 'wine,trans', 'yellow', 'yellow,trans', 'yellowishgreen', 'yellowishgreen,trans']\n",
        "'''''\n",
        "tablet_color_labels=['black','blue','blue,light','blue,trans','bluishgreen','bluishgreen,trans','brown',\n",
        "' brown,trans','dark blue','dark blue','trans','gray','green','green,trans',\n",
        "'orange','orange,trans','pink','pink,deep','pink,light','pink,trans','purple',\n",
        "'purple,trans','red','red,trans','trans','white','white,blue','white,brown',\n",
        "'white,green','white,red','white,trans','white,yellow','wine','wine,trans','yellow',\n",
        "'yellow,trans','yellowishgreen','yellowishgreen,trans']"
      ],
      "metadata": {
        "id": "dafolxRozesd"
      },
      "execution_count": null,
      "outputs": []
    },
    {
      "cell_type": "code",
      "source": [
        "for idx in range(5) :\n",
        "    if mlb.classes_[idxs[idx]] in tablet_shape_labels :\n",
        "        tablet_shape.append(mlb.classes_[idxs[idx]])\n",
        "        \n",
        "    elif mlb.classes_[idxs[idx]] in tablet_color_labels :\n",
        "        tablet_color.append(mlb.classes_[idxs[idx]])\n",
        "        "
      ],
      "metadata": {
        "id": "s7KnfCz2211P"
      },
      "execution_count": null,
      "outputs": []
    },
    {
      "cell_type": "code",
      "source": [
        "# Google Vision API 사용\n",
        "os.environ[\"GOOGLE_APPLICATION_CREDENTIALS\"] ='/content/drive/MyDrive/VisionAPI/seraphic-rarity-373904-e25d9c3b1870.json'\n",
        "\n",
        "client = vision.ImageAnnotatorClient()\n",
        "\n",
        "with io.open(output_path, 'rb') as image_file:    \n",
        "    content = image_file.read()\n",
        "    \n",
        "image = vision.Image(content=content)\n",
        "\n",
        "response = client.text_detection(image=image)\n",
        "texts = response.text_annotations\n",
        "\n",
        "# 찾은 글자 모두 저장\n",
        "search_word=texts[1].description +' '+texts[2].description"
      ],
      "metadata": {
        "id": "ObxwGEX524pD"
      },
      "execution_count": null,
      "outputs": []
    },
    {
      "cell_type": "code",
      "source": [
        "search_word"
      ],
      "metadata": {
        "colab": {
          "base_uri": "https://localhost:8080/",
          "height": 35
        },
        "id": "-5kTXfD8lhuS",
        "outputId": "e717d3b9-a176-49a8-f740-b52c394857c7"
      },
      "execution_count": null,
      "outputs": [
        {
          "output_type": "execute_result",
          "data": {
            "text/plain": [
              "'HT CFR'"
            ],
            "application/vnd.google.colaboratory.intrinsic+json": {
              "type": "string"
            }
          },
          "metadata": {},
          "execution_count": 17
        }
      ]
    },
    {
      "cell_type": "code",
      "source": [
        "import pandas as pd\n",
        "df1=pd.read_csv('/content/drive/MyDrive/test.csv',encoding='cp949')"
      ],
      "metadata": {
        "id": "rJ0cW7Bx306r"
      },
      "execution_count": null,
      "outputs": []
    },
    {
      "cell_type": "code",
      "source": [
        "#dataframe 인덱싱\n",
        "check1 = df1[(df1['의약품제형']==tablet_shape[0]) & (df1['색상앞']==tablet_color[0])]  \n",
        "check2 = check1[(check1['표시앞']==search_word) | (check1['표시뒤']==search_word)]"
      ],
      "metadata": {
        "id": "2m8ytuI64IkD"
      },
      "execution_count": null,
      "outputs": []
    },
    {
      "cell_type": "code",
      "source": [
        "check2"
      ],
      "metadata": {
        "colab": {
          "base_uri": "https://localhost:8080/",
          "height": 49
        },
        "id": "FhVZB7jkjW65",
        "outputId": "4f946cb2-65ca-4954-ba5b-54ad812cb7f1"
      },
      "execution_count": null,
      "outputs": [
        {
          "output_type": "execute_result",
          "data": {
            "text/plain": [
              "Empty DataFrame\n",
              "Columns: [품목명, 품목일련번호, 업소명, 성상, 큰제품이미지, 표시앞, 표시뒤, 의약품제형, 색상앞, 색상뒤]\n",
              "Index: []"
            ],
            "text/html": [
              "\n",
              "  <div id=\"df-da22b0e6-78de-4a82-bb1c-cccc8b2d8834\">\n",
              "    <div class=\"colab-df-container\">\n",
              "      <div>\n",
              "<style scoped>\n",
              "    .dataframe tbody tr th:only-of-type {\n",
              "        vertical-align: middle;\n",
              "    }\n",
              "\n",
              "    .dataframe tbody tr th {\n",
              "        vertical-align: top;\n",
              "    }\n",
              "\n",
              "    .dataframe thead th {\n",
              "        text-align: right;\n",
              "    }\n",
              "</style>\n",
              "<table border=\"1\" class=\"dataframe\">\n",
              "  <thead>\n",
              "    <tr style=\"text-align: right;\">\n",
              "      <th></th>\n",
              "      <th>품목명</th>\n",
              "      <th>품목일련번호</th>\n",
              "      <th>업소명</th>\n",
              "      <th>성상</th>\n",
              "      <th>큰제품이미지</th>\n",
              "      <th>표시앞</th>\n",
              "      <th>표시뒤</th>\n",
              "      <th>의약품제형</th>\n",
              "      <th>색상앞</th>\n",
              "      <th>색상뒤</th>\n",
              "    </tr>\n",
              "  </thead>\n",
              "  <tbody>\n",
              "  </tbody>\n",
              "</table>\n",
              "</div>\n",
              "      <button class=\"colab-df-convert\" onclick=\"convertToInteractive('df-da22b0e6-78de-4a82-bb1c-cccc8b2d8834')\"\n",
              "              title=\"Convert this dataframe to an interactive table.\"\n",
              "              style=\"display:none;\">\n",
              "        \n",
              "  <svg xmlns=\"http://www.w3.org/2000/svg\" height=\"24px\"viewBox=\"0 0 24 24\"\n",
              "       width=\"24px\">\n",
              "    <path d=\"M0 0h24v24H0V0z\" fill=\"none\"/>\n",
              "    <path d=\"M18.56 5.44l.94 2.06.94-2.06 2.06-.94-2.06-.94-.94-2.06-.94 2.06-2.06.94zm-11 1L8.5 8.5l.94-2.06 2.06-.94-2.06-.94L8.5 2.5l-.94 2.06-2.06.94zm10 10l.94 2.06.94-2.06 2.06-.94-2.06-.94-.94-2.06-.94 2.06-2.06.94z\"/><path d=\"M17.41 7.96l-1.37-1.37c-.4-.4-.92-.59-1.43-.59-.52 0-1.04.2-1.43.59L10.3 9.45l-7.72 7.72c-.78.78-.78 2.05 0 2.83L4 21.41c.39.39.9.59 1.41.59.51 0 1.02-.2 1.41-.59l7.78-7.78 2.81-2.81c.8-.78.8-2.07 0-2.86zM5.41 20L4 18.59l7.72-7.72 1.47 1.35L5.41 20z\"/>\n",
              "  </svg>\n",
              "      </button>\n",
              "      \n",
              "  <style>\n",
              "    .colab-df-container {\n",
              "      display:flex;\n",
              "      flex-wrap:wrap;\n",
              "      gap: 12px;\n",
              "    }\n",
              "\n",
              "    .colab-df-convert {\n",
              "      background-color: #E8F0FE;\n",
              "      border: none;\n",
              "      border-radius: 50%;\n",
              "      cursor: pointer;\n",
              "      display: none;\n",
              "      fill: #1967D2;\n",
              "      height: 32px;\n",
              "      padding: 0 0 0 0;\n",
              "      width: 32px;\n",
              "    }\n",
              "\n",
              "    .colab-df-convert:hover {\n",
              "      background-color: #E2EBFA;\n",
              "      box-shadow: 0px 1px 2px rgba(60, 64, 67, 0.3), 0px 1px 3px 1px rgba(60, 64, 67, 0.15);\n",
              "      fill: #174EA6;\n",
              "    }\n",
              "\n",
              "    [theme=dark] .colab-df-convert {\n",
              "      background-color: #3B4455;\n",
              "      fill: #D2E3FC;\n",
              "    }\n",
              "\n",
              "    [theme=dark] .colab-df-convert:hover {\n",
              "      background-color: #434B5C;\n",
              "      box-shadow: 0px 1px 3px 1px rgba(0, 0, 0, 0.15);\n",
              "      filter: drop-shadow(0px 1px 2px rgba(0, 0, 0, 0.3));\n",
              "      fill: #FFFFFF;\n",
              "    }\n",
              "  </style>\n",
              "\n",
              "      <script>\n",
              "        const buttonEl =\n",
              "          document.querySelector('#df-da22b0e6-78de-4a82-bb1c-cccc8b2d8834 button.colab-df-convert');\n",
              "        buttonEl.style.display =\n",
              "          google.colab.kernel.accessAllowed ? 'block' : 'none';\n",
              "\n",
              "        async function convertToInteractive(key) {\n",
              "          const element = document.querySelector('#df-da22b0e6-78de-4a82-bb1c-cccc8b2d8834');\n",
              "          const dataTable =\n",
              "            await google.colab.kernel.invokeFunction('convertToInteractive',\n",
              "                                                     [key], {});\n",
              "          if (!dataTable) return;\n",
              "\n",
              "          const docLinkHtml = 'Like what you see? Visit the ' +\n",
              "            '<a target=\"_blank\" href=https://colab.research.google.com/notebooks/data_table.ipynb>data table notebook</a>'\n",
              "            + ' to learn more about interactive tables.';\n",
              "          element.innerHTML = '';\n",
              "          dataTable['output_type'] = 'display_data';\n",
              "          await google.colab.output.renderOutput(dataTable, element);\n",
              "          const docLink = document.createElement('div');\n",
              "          docLink.innerHTML = docLinkHtml;\n",
              "          element.appendChild(docLink);\n",
              "        }\n",
              "      </script>\n",
              "    </div>\n",
              "  </div>\n",
              "  "
            ]
          },
          "metadata": {},
          "execution_count": 146
        }
      ]
    },
    {
      "cell_type": "code",
      "source": [
        "# datafeame을 json으로 쓰기\n",
        "check2.to_json('/content/test.json', orient='columns')\n",
        "\n",
        "with open('/content/test.json') as json_file:\n",
        "    json_data = json.load(json_file)"
      ],
      "metadata": {
        "id": "u8qpUkWj4KY7"
      },
      "execution_count": null,
      "outputs": []
    },
    {
      "cell_type": "code",
      "source": [
        "json_data"
      ],
      "metadata": {
        "colab": {
          "base_uri": "https://localhost:8080/"
        },
        "id": "5Ib6wY45gscD",
        "outputId": "92ef56f6-bd57-40c6-9c26-a6a639205756"
      },
      "execution_count": null,
      "outputs": [
        {
          "output_type": "execute_result",
          "data": {
            "text/plain": [
              "{'품목명': {'2': '세파록스캡슐(세파클러수화물)'},\n",
              " '품목일련번호': {'2': 19860001},\n",
              " '업소명': {'2': '한국휴텍스제약(주)'},\n",
              " '성상': {'2': '흰색 또는 황백색의 결정성 분말이 충진된 상부 암청색,하부흰색 경질캡슐제'},\n",
              " '큰제품이미지': {'2': 'https://nedrug.mfds.go.kr/pbp/cmn/itemImageDownload/147427290893900143'},\n",
              " '표시앞': {'2': 'HT CFR'},\n",
              " '표시뒤': {'2': None},\n",
              " '의약품제형': {'2': 'rectangle'},\n",
              " '색상앞': {'2': 'blue'},\n",
              " '색상뒤': {'2': 'white'}}"
            ]
          },
          "metadata": {},
          "execution_count": 34
        }
      ]
    },
    {
      "cell_type": "code",
      "source": [
        "tablet_name = json_data[\"품목명\"]"
      ],
      "metadata": {
        "id": "4273ZbW-4K3F"
      },
      "execution_count": null,
      "outputs": []
    },
    {
      "cell_type": "code",
      "source": [
        "if len(tablet_name) != 0:\n",
        "  print(tablet_name)\n",
        "\n",
        "if len(tablet_name) == 0:\n",
        "  print(\"알약을 찾을 수 없습니다!\")"
      ],
      "metadata": {
        "colab": {
          "base_uri": "https://localhost:8080/"
        },
        "id": "B0nivd4y4Njr",
        "outputId": "4a88735f-644f-4905-a31d-8da1a9390e1c"
      },
      "execution_count": null,
      "outputs": [
        {
          "output_type": "stream",
          "name": "stdout",
          "text": [
            "{'2': '세파록스캡슐(세파클러수화물)'}\n"
          ]
        }
      ]
    }
  ]
}