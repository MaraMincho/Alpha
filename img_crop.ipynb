{
  "nbformat": 4,
  "nbformat_minor": 0,
  "metadata": {
    "colab": {
      "provenance": [],
      "mount_file_id": "1EGl6s4sDIU_-tJdnWmaS-LlV76Xx_GbO",
      "authorship_tag": "ABX9TyPyPxeWPQyocrGARkiNcNwx"
    },
    "kernelspec": {
      "name": "python3",
      "display_name": "Python 3"
    },
    "language_info": {
      "name": "python"
    },
    "gpuClass": "standard"
  },
  "cells": [
    {
      "cell_type": "code",
      "source": [
        "import os\n",
        "import cv2\n",
        "from glob import glob"
      ],
      "metadata": {
        "id": "o35VYl-QQeTW"
      },
      "execution_count": null,
      "outputs": []
    },
    {
      "cell_type": "code",
      "source": [
        "IMAGE_DIR = '/content/drive/MyDrive/img_rem'\n",
        "OUT_DIR = '/content/drive/MyDrive/crop'\n",
        "\n",
        "all_image_path = glob(os.path.join(IMAGE_DIR, '*.png'))\n",
        "imageid_path_dict = {int(os.path.splitext(os.path.basename(x))[0]): x for x in all_image_path}\n",
        "\n",
        "for imageid, path in imageid_path_dict.items():\n",
        "    imageid = str(imageid)\n",
        "    img = cv2.imread(path)\n",
        "    w = img.shape[1] // 2\n",
        "    left_img = img[:, 0: w]\n",
        "    right_img = img[:, w: img.shape[1]]\n",
        "    cv2.imwrite(os.path.join(OUT_DIR, imageid + '_0.png'), left_img)\n",
        "    print(imageid, \"done\")"
      ],
      "metadata": {
        "id": "qRpZHrzrWY2r"
      },
      "execution_count": null,
      "outputs": []
    }
  ]
}