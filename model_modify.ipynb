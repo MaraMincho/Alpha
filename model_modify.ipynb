{
  "nbformat": 4,
  "nbformat_minor": 0,
  "metadata": {
    "colab": {
      "provenance": [],
      "mount_file_id": "1kCUMt0dzyBGt9cHBOz2CmUDpSJH3VKWc",
      "authorship_tag": "ABX9TyMPuIOXpcXQ2muNiruDMftV"
    },
    "kernelspec": {
      "name": "python3",
      "display_name": "Python 3"
    },
    "language_info": {
      "name": "python"
    },
    "accelerator": "GPU",
    "gpuClass": "standard"
  },
  "cells": [
    {
      "cell_type": "code",
      "execution_count": 1,
      "metadata": {
        "id": "6WPkHJlGq7lt",
        "colab": {
          "base_uri": "https://localhost:8080/"
        },
        "outputId": "74615a33-ae82-401e-f4bf-f90bdc5f30e6"
      },
      "outputs": [
        {
          "output_type": "stream",
          "name": "stdout",
          "text": [
            "/content/pill\n"
          ]
        }
      ],
      "source": [
        "cd \"/content/pill\""
      ]
    },
    {
      "cell_type": "code",
      "source": [
        "!unzip \"/content/drive/MyDrive/nobg.zip\""
      ],
      "metadata": {
        "id": "hfVevF5CrQgc"
      },
      "execution_count": null,
      "outputs": []
    },
    {
      "cell_type": "code",
      "source": [
        "# 패키지 import\n",
        "import matplotlib\n",
        "matplotlib.use(\"Agg\")\n",
        "\n",
        "import os\n",
        "import cv2\n",
        "import random\n",
        "import pickle\n",
        "import argparse\n",
        "import numpy as np\n",
        "import matplotlib.pyplot as plt\n",
        "\n",
        "from keras.models import Sequential\n",
        "from tensorflow.keras.layers import BatchNormalization\n",
        "from keras.layers.convolutional import Conv2D\n",
        "from keras.layers.convolutional import MaxPooling2D\n",
        "from keras.layers.core import Activation\n",
        "from keras.layers.core import Flatten\n",
        "from keras.layers.core import Dropout\n",
        "from keras.layers.core import Dense\n",
        "from keras import backend as K\n",
        "\n",
        "from imutils import paths\n",
        "from keras.preprocessing.image import ImageDataGenerator\n",
        "from keras.optimizers import Adam\n",
        "from keras_preprocessing.image import img_to_array\n",
        "from sklearn.preprocessing import MultiLabelBinarizer\n",
        "from sklearn.model_selection import train_test_split"
      ],
      "metadata": {
        "id": "7LCskI_zrWi0"
      },
      "execution_count": 25,
      "outputs": []
    },
    {
      "cell_type": "code",
      "source": [
        "class SmallerVGGNet:\n",
        "\t@staticmethod\n",
        "\tdef build(width, height, depth, classes, finalAct=\"softmax\"):\n",
        "\t\t# input 이미지의 차원, 채널에 해당하는 축을 설정하여 모델을 초기화\n",
        "\t\n",
        "\t\tmodel = Sequential()\n",
        "\t\tinputShape = (height, width, depth)\n",
        "\t\tchanDim = -1\n",
        " \n",
        " \t\t# input 이미지의 차원을 알맞게 변경\n",
        "\t\tif K.image_data_format() == \"channels_first\":\n",
        "\t\t\tinputShape = (depth, height, width)\n",
        "\t\t\tchanDim = 1\n",
        "\n",
        "    # CONV => RELU => POOL\n",
        "\t\tmodel.add(Conv2D(32, (3, 3), padding=\"same\",\n",
        "\t\t\tinput_shape=inputShape))\n",
        "\t\tmodel.add(Activation(\"relu\"))\n",
        "\t\tmodel.add(BatchNormalization(axis=chanDim))\n",
        "\t\tmodel.add(MaxPooling2D(pool_size=(3, 3)))\n",
        "\t\tmodel.add(Dropout(0.25))\n",
        "  \n",
        "\n",
        "    # (CONV => RELU) * 2 => POOL\n",
        "\t\tmodel.add(Conv2D(64, (3, 3), padding=\"same\"))\n",
        "\t\tmodel.add(Activation(\"relu\"))\n",
        "\t\tmodel.add(BatchNormalization(axis=chanDim))\n",
        "\t\tmodel.add(Conv2D(64, (3, 3), padding=\"same\"))\n",
        "\t\tmodel.add(Activation(\"relu\"))\n",
        "\t\tmodel.add(BatchNormalization(axis=chanDim))\n",
        "\t\tmodel.add(MaxPooling2D(pool_size=(2, 2)))\n",
        "\t\tmodel.add(Dropout(0.25))\n",
        " \n",
        "\t\t# (CONV => RELU) * 2 => POOL\n",
        "\t\tmodel.add(Conv2D(128, (3, 3), padding=\"same\"))\n",
        "\t\tmodel.add(Activation(\"relu\"))\n",
        "\t\tmodel.add(BatchNormalization(axis=chanDim))\n",
        "\t\tmodel.add(Conv2D(128, (3, 3), padding=\"same\"))\n",
        "\t\tmodel.add(Activation(\"relu\"))\n",
        "\t\tmodel.add(BatchNormalization(axis=chanDim))\n",
        "\t\tmodel.add(MaxPooling2D(pool_size=(2, 2)))\n",
        "\t\tmodel.add(Dropout(0.25))\n",
        "  \n",
        "\n",
        "    # FC => RELU\n",
        "\t\tmodel.add(Flatten())\n",
        "\t\tmodel.add(Dense(1024))\n",
        "\t\tmodel.add(Activation(\"relu\"))\n",
        "\t\tmodel.add(BatchNormalization())\n",
        "\t\tmodel.add(Dropout(0.5))\n",
        "\n",
        "\t\t# 다중 라벨 분류\n",
        "\t\tmodel.add(Dense(classes))\n",
        "\t\tmodel.add(Activation(finalAct))\n",
        " \n",
        " \t\t# 네트워크 아키텍처 반환\n",
        "\t\treturn model"
      ],
      "metadata": {
        "id": "O03seGyMrZC7"
      },
      "execution_count": 26,
      "outputs": []
    },
    {
      "cell_type": "code",
      "source": [
        "EPOCHS = 75                 # 모든 학습 데이터셋을 학습하는 횟수\n",
        "INIT_LR = 1e-3              # 학습률 => 1e-5 부터 시작하여 가장 적합해 보이는 학습률 채택\n",
        "BS = 32                     # 일반적으로 성능이 뛰어난 32크기의 mini-batch 채택\n",
        "IMAGE_DIMS = (96, 96, 3)    # 이미지 차원"
      ],
      "metadata": {
        "id": "nmOwj0xgak_H"
      },
      "execution_count": 27,
      "outputs": []
    },
    {
      "cell_type": "code",
      "source": [
        "# 데이터와 라벨을 초기화\n",
        "data = []\n",
        "labels = []\n",
        "\n",
        "# 이미지 전처리\n",
        "for imagePath in file_list:\n",
        "  image = cv2.imread('/content/pill/'+imagePath)\n",
        "  # print(image)\n",
        "  if image is not None : \n",
        "    image = cv2.resize(image,(IMAGE_DIMS[1],IMAGE_DIMS[0]))\n",
        "    image = img_to_array(image)\n",
        "    data.append(image)\n",
        "\n",
        "    # 라벨 리스트 업데이트\n",
        "    l = label = imagePath.split(\"-\")[0].split(\"_\")\n",
        "    labels.append(l)\n",
        "\n",
        "data = np.array(data, dtype= np.float32) / 255.0\n",
        "labels = np.array(labels)"
      ],
      "metadata": {
        "id": "LKUoi4P5fJ1F"
      },
      "execution_count": 14,
      "outputs": []
    },
    {
      "cell_type": "code",
      "source": [
        "# 라벨 이진화 \n",
        "print(\"라벨 리스트:\")\n",
        "mlb = MultiLabelBinarizer()\n",
        "labels = mlb.fit_transform(labels)\n",
        " \n",
        "# 리스트에 있는 라벨들을 출력\n",
        "for (i, label) in enumerate(mlb.classes_):\n",
        "  print(\"{}. {}\".format(i + 1, label))"
      ],
      "metadata": {
        "colab": {
          "base_uri": "https://localhost:8080/"
        },
        "id": "AI8W8NZxfRVs",
        "outputId": "32c6ce91-fc65-44ce-aec2-dcbb4ee2262b"
      },
      "execution_count": 15,
      "outputs": [
        {
          "output_type": "stream",
          "name": "stdout",
          "text": [
            "라벨 리스트:\n",
            "1. black\n",
            "2. black,trans\n",
            "3. blue\n",
            "4. blue,light\n",
            "5. blue,trans\n",
            "6. bluegreen\n",
            "7. bluegreen,trans\n",
            "8. brown\n",
            "9. brown,deep\n",
            "10. brown,trans\n",
            "11. circle\n",
            "12. darkblue\n",
            "13. darkblue,trans\n",
            "14. etc\n",
            "15. etc,capsule\n",
            "16. gray\n",
            "17. green\n",
            "18. green,trans\n",
            "19. hexagon\n",
            "20. orange\n",
            "21. orange,trans\n",
            "22. oval\n",
            "23. oval,capsule\n",
            "24. pentagon\n",
            "25. pink\n",
            "26. pink,deep\n",
            "27. pink,light\n",
            "28. pink,trans\n",
            "29. purple\n",
            "30. purple,trans\n",
            "31. rectangle\n",
            "32. rectangle,capsule\n",
            "33. red\n",
            "34. red,trans\n",
            "35. redpurple\n",
            "36. redpurple,trans\n",
            "37. rhombus\n",
            "38. square\n",
            "39. trans\n",
            "40. triangle\n",
            "41. triangle,capsule\n",
            "42. white\n",
            "43. white,blue\n",
            "44. white,brown\n",
            "45. white,green\n",
            "46. white,orange,trans\n",
            "47. white,red\n",
            "48. white,trans\n",
            "49. white,yellow\n",
            "50. yellow\n",
            "51. yellow,trans\n",
            "52. yellowgreen\n",
            "53. yellowgreen,trans\n"
          ]
        }
      ]
    },
    {
      "cell_type": "code",
      "source": [
        "# 학습 데이터와 테스트 데이터를 8:2 비율로 나눔\n",
        "(trainX, testX, trainY, testY) = train_test_split(data, labels, test_size=0.2, random_state=42)\n",
        "\n",
        "# 배열을 1개의 압축되지 않은 npz 포맷 파일로 저장\n",
        "np.savez('/content/drive/MyDrive/train_data.npz', xtrain = trainX, ytrain = trainY)\n",
        "np.savez('/content/drive/MyDrive/test_data.npz', xtest = testX, ytest = testY)"
      ],
      "metadata": {
        "id": "2id7ajU0atJZ"
      },
      "execution_count": 16,
      "outputs": []
    },
    {
      "cell_type": "code",
      "source": [
        "# 이미지 augmentation\n",
        "aug = ImageDataGenerator(rotation_range=25, width_shift_range=0.1,\n",
        "\theight_shift_range=0.1, shear_range=0.2, zoom_range=0.2,\n",
        "\thorizontal_flip=True, fill_mode=\"nearest\")\n",
        "\n",
        "# sigmoid 활성화 함수를 네트워크의 마지막 레이어로 설정\n",
        "model = SmallerVGGNet.build(\n",
        "\twidth=IMAGE_DIMS[1], height=IMAGE_DIMS[0],\n",
        "\tdepth=IMAGE_DIMS[2], classes=len(mlb.classes_),\n",
        "\tfinalAct=\"sigmoid\")\n",
        "\n",
        "# 옵티마이저를 초기화\n",
        "opt = Adam(learning_rate=INIT_LR, decay=INIT_LR / EPOCHS)\n",
        "\n",
        "# 모델 컴파일\n",
        "model.compile(loss=\"binary_crossentropy\", optimizer=opt,metrics=[\"accuracy\"])"
      ],
      "metadata": {
        "id": "qG_IH9rgfykF"
      },
      "execution_count": 17,
      "outputs": []
    },
    {
      "cell_type": "code",
      "source": [
        "# 네트워크 학습\n",
        "print(\"네트워크 학습\")\n",
        "H = model.fit_generator(\n",
        "\taug.flow(trainX, trainY, batch_size=BS),\n",
        "\tvalidation_data=(testX, testY),\n",
        "\tsteps_per_epoch=len(trainX) // BS,\n",
        "\tepochs=EPOCHS, verbose=1)"
      ],
      "metadata": {
        "colab": {
          "base_uri": "https://localhost:8080/"
        },
        "id": "v9FTw_Eof1F0",
        "outputId": "de063603-d26a-498c-98bf-af03b7b0fb55"
      },
      "execution_count": 18,
      "outputs": [
        {
          "output_type": "stream",
          "name": "stdout",
          "text": [
            "네트워크 학습\n"
          ]
        },
        {
          "output_type": "stream",
          "name": "stderr",
          "text": [
            "<ipython-input-18-5fe5661be8f7>:3: UserWarning: `Model.fit_generator` is deprecated and will be removed in a future version. Please use `Model.fit`, which supports generators.\n",
            "  H = model.fit_generator(\n"
          ]
        },
        {
          "output_type": "stream",
          "name": "stdout",
          "text": [
            "Epoch 1/75\n",
            "553/553 [==============================] - 56s 83ms/step - loss: 0.1562 - accuracy: 0.2618 - val_loss: 0.1560 - val_accuracy: 0.2319\n",
            "Epoch 2/75\n",
            "553/553 [==============================] - 41s 74ms/step - loss: 0.0536 - accuracy: 0.3111 - val_loss: 0.0475 - val_accuracy: 0.3982\n",
            "Epoch 3/75\n",
            "553/553 [==============================] - 40s 73ms/step - loss: 0.0484 - accuracy: 0.3168 - val_loss: 0.0419 - val_accuracy: 0.5483\n",
            "Epoch 4/75\n",
            "553/553 [==============================] - 40s 73ms/step - loss: 0.0439 - accuracy: 0.3212 - val_loss: 0.0429 - val_accuracy: 0.5054\n",
            "Epoch 5/75\n",
            "553/553 [==============================] - 42s 75ms/step - loss: 0.0408 - accuracy: 0.3453 - val_loss: 0.0337 - val_accuracy: 0.3962\n",
            "Epoch 6/75\n",
            "553/553 [==============================] - 40s 72ms/step - loss: 0.0378 - accuracy: 0.3629 - val_loss: 0.0478 - val_accuracy: 0.5763\n",
            "Epoch 7/75\n",
            "553/553 [==============================] - 40s 72ms/step - loss: 0.0353 - accuracy: 0.3664 - val_loss: 0.0549 - val_accuracy: 0.4583\n",
            "Epoch 8/75\n",
            "553/553 [==============================] - 39s 71ms/step - loss: 0.0341 - accuracy: 0.3723 - val_loss: 0.0350 - val_accuracy: 0.3296\n",
            "Epoch 9/75\n",
            "553/553 [==============================] - 40s 73ms/step - loss: 0.0325 - accuracy: 0.3910 - val_loss: 0.0330 - val_accuracy: 0.4438\n",
            "Epoch 10/75\n",
            "553/553 [==============================] - 41s 74ms/step - loss: 0.0308 - accuracy: 0.3835 - val_loss: 0.0384 - val_accuracy: 0.3637\n",
            "Epoch 11/75\n",
            "553/553 [==============================] - 40s 72ms/step - loss: 0.0309 - accuracy: 0.4069 - val_loss: 0.0256 - val_accuracy: 0.5246\n",
            "Epoch 12/75\n",
            "553/553 [==============================] - 39s 71ms/step - loss: 0.0297 - accuracy: 0.4180 - val_loss: 0.0266 - val_accuracy: 0.6354\n",
            "Epoch 13/75\n",
            "553/553 [==============================] - 40s 72ms/step - loss: 0.0305 - accuracy: 0.4166 - val_loss: 0.0403 - val_accuracy: 0.6552\n",
            "Epoch 14/75\n",
            "553/553 [==============================] - 42s 76ms/step - loss: 0.0282 - accuracy: 0.4180 - val_loss: 0.0241 - val_accuracy: 0.4558\n",
            "Epoch 15/75\n",
            "553/553 [==============================] - 40s 73ms/step - loss: 0.0271 - accuracy: 0.4217 - val_loss: 0.0222 - val_accuracy: 0.4179\n",
            "Epoch 16/75\n",
            "553/553 [==============================] - 40s 73ms/step - loss: 0.0264 - accuracy: 0.4253 - val_loss: 0.0268 - val_accuracy: 0.5523\n",
            "Epoch 17/75\n",
            "553/553 [==============================] - 40s 73ms/step - loss: 0.0261 - accuracy: 0.4324 - val_loss: 0.0284 - val_accuracy: 0.3062\n",
            "Epoch 18/75\n",
            "553/553 [==============================] - 41s 74ms/step - loss: 0.0253 - accuracy: 0.4333 - val_loss: 0.0225 - val_accuracy: 0.4118\n",
            "Epoch 19/75\n",
            "553/553 [==============================] - 40s 73ms/step - loss: 0.0246 - accuracy: 0.4523 - val_loss: 0.0215 - val_accuracy: 0.4957\n",
            "Epoch 20/75\n",
            "553/553 [==============================] - 42s 75ms/step - loss: 0.0241 - accuracy: 0.4558 - val_loss: 0.0248 - val_accuracy: 0.3883\n",
            "Epoch 21/75\n",
            "553/553 [==============================] - 40s 72ms/step - loss: 0.0239 - accuracy: 0.4569 - val_loss: 0.0257 - val_accuracy: 0.4889\n",
            "Epoch 22/75\n",
            "553/553 [==============================] - 40s 72ms/step - loss: 0.0237 - accuracy: 0.4599 - val_loss: 0.0242 - val_accuracy: 0.7125\n",
            "Epoch 23/75\n",
            "553/553 [==============================] - 40s 72ms/step - loss: 0.0231 - accuracy: 0.4596 - val_loss: 0.0219 - val_accuracy: 0.4393\n",
            "Epoch 24/75\n",
            "553/553 [==============================] - 39s 71ms/step - loss: 0.0229 - accuracy: 0.4520 - val_loss: 0.0180 - val_accuracy: 0.4772\n",
            "Epoch 25/75\n",
            "553/553 [==============================] - 41s 73ms/step - loss: 0.0223 - accuracy: 0.4630 - val_loss: 0.0266 - val_accuracy: 0.5093\n",
            "Epoch 26/75\n",
            "553/553 [==============================] - 40s 73ms/step - loss: 0.0223 - accuracy: 0.4633 - val_loss: 0.0186 - val_accuracy: 0.6397\n",
            "Epoch 27/75\n",
            "553/553 [==============================] - 40s 73ms/step - loss: 0.0215 - accuracy: 0.4700 - val_loss: 0.0192 - val_accuracy: 0.5803\n",
            "Epoch 28/75\n",
            "553/553 [==============================] - 41s 73ms/step - loss: 0.0217 - accuracy: 0.4734 - val_loss: 0.0291 - val_accuracy: 0.6056\n",
            "Epoch 29/75\n",
            "553/553 [==============================] - 40s 73ms/step - loss: 0.0221 - accuracy: 0.4736 - val_loss: 0.0229 - val_accuracy: 0.6031\n",
            "Epoch 30/75\n",
            "553/553 [==============================] - 41s 73ms/step - loss: 0.0214 - accuracy: 0.4695 - val_loss: 0.0318 - val_accuracy: 0.6898\n",
            "Epoch 31/75\n",
            "553/553 [==============================] - 42s 75ms/step - loss: 0.0213 - accuracy: 0.4777 - val_loss: 0.0200 - val_accuracy: 0.5722\n",
            "Epoch 32/75\n",
            "553/553 [==============================] - 40s 72ms/step - loss: 0.0210 - accuracy: 0.4787 - val_loss: 0.0178 - val_accuracy: 0.3730\n",
            "Epoch 33/75\n",
            "553/553 [==============================] - 40s 73ms/step - loss: 0.0205 - accuracy: 0.4818 - val_loss: 0.0238 - val_accuracy: 0.6956\n",
            "Epoch 34/75\n",
            "553/553 [==============================] - 40s 72ms/step - loss: 0.0205 - accuracy: 0.4839 - val_loss: 0.0179 - val_accuracy: 0.4463\n",
            "Epoch 35/75\n",
            "553/553 [==============================] - 41s 74ms/step - loss: 0.0203 - accuracy: 0.4769 - val_loss: 0.0201 - val_accuracy: 0.5332\n",
            "Epoch 36/75\n",
            "553/553 [==============================] - 40s 72ms/step - loss: 0.0195 - accuracy: 0.4898 - val_loss: 0.0180 - val_accuracy: 0.4781\n",
            "Epoch 37/75\n",
            "553/553 [==============================] - 40s 72ms/step - loss: 0.0198 - accuracy: 0.4862 - val_loss: 0.0188 - val_accuracy: 0.5029\n",
            "Epoch 38/75\n",
            "553/553 [==============================] - 42s 75ms/step - loss: 0.0195 - accuracy: 0.4838 - val_loss: 0.0190 - val_accuracy: 0.5997\n",
            "Epoch 39/75\n",
            "553/553 [==============================] - 41s 74ms/step - loss: 0.0192 - accuracy: 0.4799 - val_loss: 0.0188 - val_accuracy: 0.5833\n",
            "Epoch 40/75\n",
            "553/553 [==============================] - 39s 71ms/step - loss: 0.0190 - accuracy: 0.4778 - val_loss: 0.0233 - val_accuracy: 0.4152\n",
            "Epoch 41/75\n",
            "553/553 [==============================] - 40s 72ms/step - loss: 0.0188 - accuracy: 0.4937 - val_loss: 0.0174 - val_accuracy: 0.5968\n",
            "Epoch 42/75\n",
            "553/553 [==============================] - 40s 71ms/step - loss: 0.0190 - accuracy: 0.4779 - val_loss: 0.0179 - val_accuracy: 0.5636\n",
            "Epoch 43/75\n",
            "553/553 [==============================] - 40s 72ms/step - loss: 0.0187 - accuracy: 0.4769 - val_loss: 0.0207 - val_accuracy: 0.4833\n",
            "Epoch 44/75\n",
            "553/553 [==============================] - 41s 74ms/step - loss: 0.0184 - accuracy: 0.4759 - val_loss: 0.0196 - val_accuracy: 0.4246\n",
            "Epoch 45/75\n",
            "553/553 [==============================] - 41s 74ms/step - loss: 0.0184 - accuracy: 0.5001 - val_loss: 0.0201 - val_accuracy: 0.3967\n",
            "Epoch 46/75\n",
            "553/553 [==============================] - 39s 71ms/step - loss: 0.0182 - accuracy: 0.4933 - val_loss: 0.0169 - val_accuracy: 0.5077\n",
            "Epoch 47/75\n",
            "553/553 [==============================] - 40s 72ms/step - loss: 0.0183 - accuracy: 0.5028 - val_loss: 0.0169 - val_accuracy: 0.4492\n",
            "Epoch 48/75\n",
            "553/553 [==============================] - 40s 72ms/step - loss: 0.0180 - accuracy: 0.4966 - val_loss: 0.0227 - val_accuracy: 0.6692\n",
            "Epoch 49/75\n",
            "553/553 [==============================] - 40s 72ms/step - loss: 0.0181 - accuracy: 0.5090 - val_loss: 0.0168 - val_accuracy: 0.5900\n",
            "Epoch 50/75\n",
            "553/553 [==============================] - 42s 76ms/step - loss: 0.0180 - accuracy: 0.4974 - val_loss: 0.0320 - val_accuracy: 0.7071\n",
            "Epoch 51/75\n",
            "553/553 [==============================] - 40s 72ms/step - loss: 0.0178 - accuracy: 0.4901 - val_loss: 0.0356 - val_accuracy: 0.4578\n",
            "Epoch 52/75\n",
            "553/553 [==============================] - 40s 73ms/step - loss: 0.0175 - accuracy: 0.4842 - val_loss: 0.0186 - val_accuracy: 0.4700\n",
            "Epoch 53/75\n",
            "553/553 [==============================] - 39s 71ms/step - loss: 0.0175 - accuracy: 0.4881 - val_loss: 0.0174 - val_accuracy: 0.4788\n",
            "Epoch 54/75\n",
            "553/553 [==============================] - 40s 73ms/step - loss: 0.0173 - accuracy: 0.4959 - val_loss: 0.0905 - val_accuracy: 0.6875\n",
            "Epoch 55/75\n",
            "553/553 [==============================] - 39s 71ms/step - loss: 0.0173 - accuracy: 0.4907 - val_loss: 0.0183 - val_accuracy: 0.4912\n",
            "Epoch 56/75\n",
            "553/553 [==============================] - 41s 74ms/step - loss: 0.0177 - accuracy: 0.4862 - val_loss: 0.0180 - val_accuracy: 0.4950\n",
            "Epoch 57/75\n",
            "553/553 [==============================] - 40s 72ms/step - loss: 0.0172 - accuracy: 0.4865 - val_loss: 0.0342 - val_accuracy: 0.7026\n",
            "Epoch 58/75\n",
            "553/553 [==============================] - 40s 72ms/step - loss: 0.0171 - accuracy: 0.4905 - val_loss: 0.0253 - val_accuracy: 0.4948\n",
            "Epoch 59/75\n",
            "553/553 [==============================] - 39s 70ms/step - loss: 0.0169 - accuracy: 0.4955 - val_loss: 0.0190 - val_accuracy: 0.4910\n",
            "Epoch 60/75\n",
            "553/553 [==============================] - 40s 73ms/step - loss: 0.0170 - accuracy: 0.4977 - val_loss: 0.0175 - val_accuracy: 0.6300\n",
            "Epoch 61/75\n",
            "553/553 [==============================] - 40s 73ms/step - loss: 0.0167 - accuracy: 0.4958 - val_loss: 0.0199 - val_accuracy: 0.5406\n",
            "Epoch 62/75\n",
            "553/553 [==============================] - 39s 71ms/step - loss: 0.0163 - accuracy: 0.4966 - val_loss: 0.0251 - val_accuracy: 0.6013\n",
            "Epoch 63/75\n",
            "553/553 [==============================] - 39s 71ms/step - loss: 0.0166 - accuracy: 0.5115 - val_loss: 0.0164 - val_accuracy: 0.6223\n",
            "Epoch 64/75\n",
            "553/553 [==============================] - 39s 71ms/step - loss: 0.0166 - accuracy: 0.5135 - val_loss: 0.0168 - val_accuracy: 0.5639\n",
            "Epoch 65/75\n",
            "553/553 [==============================] - 39s 71ms/step - loss: 0.0165 - accuracy: 0.4997 - val_loss: 0.0201 - val_accuracy: 0.4370\n",
            "Epoch 66/75\n",
            "553/553 [==============================] - 39s 71ms/step - loss: 0.0163 - accuracy: 0.5057 - val_loss: 0.0165 - val_accuracy: 0.5074\n",
            "Epoch 67/75\n",
            "553/553 [==============================] - 41s 74ms/step - loss: 0.0165 - accuracy: 0.5001 - val_loss: 0.0173 - val_accuracy: 0.4400\n",
            "Epoch 68/75\n",
            "553/553 [==============================] - 44s 80ms/step - loss: 0.0167 - accuracy: 0.4928 - val_loss: 0.0151 - val_accuracy: 0.5020\n",
            "Epoch 69/75\n",
            "553/553 [==============================] - 41s 74ms/step - loss: 0.0161 - accuracy: 0.4912 - val_loss: 0.0154 - val_accuracy: 0.4147\n",
            "Epoch 70/75\n",
            "553/553 [==============================] - 39s 71ms/step - loss: 0.0160 - accuracy: 0.4937 - val_loss: 0.0169 - val_accuracy: 0.6692\n",
            "Epoch 71/75\n",
            "553/553 [==============================] - 39s 71ms/step - loss: 0.0160 - accuracy: 0.5010 - val_loss: 0.0160 - val_accuracy: 0.6139\n",
            "Epoch 72/75\n",
            "553/553 [==============================] - 43s 77ms/step - loss: 0.0157 - accuracy: 0.5076 - val_loss: 0.0170 - val_accuracy: 0.4880\n",
            "Epoch 73/75\n",
            "553/553 [==============================] - 39s 71ms/step - loss: 0.0159 - accuracy: 0.5002 - val_loss: 0.0192 - val_accuracy: 0.4957\n",
            "Epoch 74/75\n",
            "553/553 [==============================] - 40s 72ms/step - loss: 0.0159 - accuracy: 0.4982 - val_loss: 0.0154 - val_accuracy: 0.5174\n",
            "Epoch 75/75\n",
            "553/553 [==============================] - 40s 72ms/step - loss: 0.0161 - accuracy: 0.4937 - val_loss: 0.0185 - val_accuracy: 0.4653\n"
          ]
        }
      ]
    },
    {
      "cell_type": "code",
      "source": [
        "# 모델 저장\n",
        "from keras.models import load_model\n",
        "\n",
        "model.save('/content/drive/MyDrive/pill_model_modify.h5')\n",
        "\n",
        "# MultiLabelBinarizer 저장\n",
        "f = open('/content/drive/MyDrive/multilabelbin.txt', \"wb\")\n",
        "f.write(pickle.dumps(mlb))\n",
        "f.close()"
      ],
      "metadata": {
        "id": "roMbGmbFa0M5"
      },
      "execution_count": 20,
      "outputs": []
    },
    {
      "cell_type": "code",
      "source": [
        "from matplotlib import pyplot as plt\n",
        "%matplotlib inline\n",
        "# 학습 로스와 정확도를 그래프로 확인\n",
        "plt.style.use(\"ggplot\")\n",
        "plt.figure()\n",
        "N = EPOCHS\n",
        "plt.plot(np.arange(0, N), H.history[\"loss\"], label=\"train_loss\")\n",
        "plt.plot(np.arange(0, N), H.history[\"val_loss\"], label=\"val_loss\")\n",
        "plt.plot(np.arange(0, N), H.history[\"accuracy\"], label=\"train_acc\")\n",
        "plt.plot(np.arange(0, N), H.history[\"val_accuracy\"], label=\"val_acc\")\n",
        "plt.title(\"Training Loss and Accuracy\")\n",
        "plt.xlabel(\"Epoch\")\n",
        "plt.ylabel(\"Loss/Accuracy\")\n",
        "plt.legend(loc=\"upper left\")\n",
        "plt.show()"
      ],
      "metadata": {
        "id": "wUF0TACNa1mB",
        "colab": {
          "base_uri": "https://localhost:8080/",
          "height": 299
        },
        "outputId": "fff2845e-6e08-41f9-eb42-70f887adb86e"
      },
      "execution_count": 21,
      "outputs": [
        {
          "output_type": "display_data",
          "data": {
            "text/plain": [
              "<Figure size 432x288 with 1 Axes>"
            ],
            "image/png": "[encoded data removed]"
          },
          "metadata": {}
        }
      ]
    }
  ]
}